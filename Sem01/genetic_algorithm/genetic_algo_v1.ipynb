{
 "cells": [
  {
   "cell_type": "markdown",
   "id": "1cc8ec41-4aec-41d9-848a-c08120e4f5fd",
   "metadata": {},
   "source": [
    "# Amit Kumar\n",
    "# 22CSM1R02\n",
    "# ML - Assignment 4 - Genetic Algorithms"
   ]
  },
  {
   "cell_type": "markdown",
   "id": "4b56bfd8-61ba-4d1a-9f59-d58b724fa9db",
   "metadata": {},
   "source": [
    "![](./problem.png)"
   ]
  },
  {
   "cell_type": "markdown",
   "id": "c6de270a-ceaf-4601-808a-b00834de0a20",
   "metadata": {},
   "source": [
    "- population generation\n",
    "- encoding technique (gene, chromosome)\n",
    "- initialization procedure (creation)\n",
    "- evaluation/fitness function (environment)\n",
    "- selection of parents (reproduction)\n",
    "- genetic operators (mutation/recombination)\n",
    "- parameter setting"
   ]
  },
  {
   "cell_type": "code",
   "execution_count": 1,
   "id": "48240e49-2d29-4bdf-90b6-dba2ab858e95",
   "metadata": {},
   "outputs": [],
   "source": [
    "import numpy as np\n",
    "import math\n",
    "import random"
   ]
  },
  {
   "cell_type": "code",
   "execution_count": 2,
   "id": "a22ffb97-5b74-4e21-9b5a-9a010e2ed19d",
   "metadata": {},
   "outputs": [],
   "source": [
    "'''\n",
    "Class for Genetic Algorithm that optimized a function with two independent variables, x and y\n",
    "Constructor Params\n",
    "    - initial values of paramenters, x and y\n",
    "'''\n",
    "class GenericAlgorithm:\n",
    "    def __init__(self, size, lower_lim=None, upper_lim=None):\n",
    "        self.n = size # size of population\n",
    "        self.l = lower_lim\n",
    "        self.u = upper_lim\n",
    "        \n",
    "        \n",
    "    def fit(self, n_iters=5):\n",
    "        pops = self.population_generation() # initial population\n",
    "        fitness = []\n",
    "        for i in range(n_iters):\n",
    "            print('Iteration: ', i)\n",
    "            print('Total Fitness of Population ', i, ': ', end='')\n",
    "            fitness = self.find_fitness(pops)\n",
    "            print(self.fitness_score(fitness))\n",
    "            # generating the next population, crossover and then mutations and then next iterations\n",
    "            pops = self.next_gen(pops, fitness)\n",
    "            pops = self.mutation(pops)\n",
    "        return (pops, self.fitness_score(fitness))\n",
    "        \n",
    "        \n",
    "    def population_generation(self):\n",
    "        '''\n",
    "        Generate population randomly using bit strings of length 10bits\n",
    "        Range of number is [-10,10], 10 fits in 4 bits, so we take length 5 bit strings\n",
    "            - first char is - then it is negative \n",
    "            - if it is zero then it is positive\n",
    "        Data Structure for storing the population\n",
    "            - The population is stored in a list and each element of the list is a 3 element dictionary\n",
    "                - element 1, combined bit string of length 8 -> pop\n",
    "                - element 2, sign of first part -> sign1\n",
    "                - element 3, sign of second part -> sign2\n",
    "                \n",
    "        Inputs\n",
    "        Outputs\n",
    "        '''\n",
    "        population = []\n",
    "        for i in range(self.n):\n",
    "            population.append(self._generate_pop())\n",
    "        return population\n",
    "        \n",
    "        \n",
    "    def _generate_pop(self):\n",
    "        x = random.randint(-10, 10)\n",
    "        y = random.randint(-10, 10)\n",
    "        x_s = f'{x:05b}'\n",
    "        y_s = f'{y:05b}'\n",
    "        sign1 = x_s[0]\n",
    "        sign2 = y_s[0]\n",
    "        x_s = x_s[1:]\n",
    "        y_s = y_s[1:]\n",
    "        return {\n",
    "            'pop': x_s+y_s,\n",
    "            'sign1': sign1, \n",
    "            'sign2': sign2\n",
    "        }\n",
    "    \n",
    "    \n",
    "    def find_fitness(self, population):\n",
    "        fitness = []\n",
    "        for pop in population:\n",
    "            fitness.append(self._fitness_function(pop))\n",
    "        return fitness\n",
    "    \n",
    "    \n",
    "    def _fitness_function(self, pop):\n",
    "        '''\n",
    "        Takes an individual pop and finds the value of fitness function for this pop\n",
    "        '''\n",
    "        x, y = self._convert_to_int(pop)\n",
    "        t1 = (x+2*y-2)**2\n",
    "        t2 = (2*x+y-7)**2\n",
    "        return 1/abs(t1+t2)\n",
    "        \n",
    "        \n",
    "    def _convert_to_int(self, pop):\n",
    "        p1 = pop['pop'][:4]\n",
    "        p2 = pop['pop'][4:]\n",
    "        v1 = 0\n",
    "        v2 = 0\n",
    "        if pop['sign1'] == '0': \n",
    "            v1 = int(p1, 2)\n",
    "        else:\n",
    "            v1 = -1*int(p1, 2)\n",
    "            \n",
    "        if pop['sign2'] == '0': \n",
    "            v2 = int(p2, 2)\n",
    "        else:\n",
    "            v2 = -1*int(p2, 2) \n",
    "            \n",
    "        return (v1, v2)\n",
    "    \n",
    "    \n",
    "    def fitness_score(self, fitness):\n",
    "        return sum(fitness)\n",
    "    \n",
    "    \n",
    "    def next_gen(self, population, fitness): \n",
    "        new_population = self._sort_population_on_fitness(population, fitness)\n",
    "        # random crossover taking two pops ar a time\n",
    "        \n",
    "        for i in range(0, self.n, 2):\n",
    "            x1, x2 = self._cross_over(new_population[i], new_population[i+1])\n",
    "            new_population[i] = x1\n",
    "            new_population[i] = x2\n",
    "        return new_population\n",
    "            \n",
    "            \n",
    "    def _cross_over(self, pop1, pop2):\n",
    "        # 1 point crossover,\n",
    "        k = random.randint(1, 7)\n",
    "        s1 = list(pop1['pop'])\n",
    "        s2 = list(pop2['pop'])\n",
    "        temp = s1[k:]\n",
    "        s1[k:] = s2[k:]\n",
    "        s2[k:] = temp\n",
    "        s1 = ''.join(s1)\n",
    "        s2 = ''.join(s2)\n",
    "        pop1['pop'] = s1\n",
    "        pop2['pop'] = s2\n",
    "        return (pop1, pop2)\n",
    "        \n",
    "        \n",
    "    def _sort_population_on_fitness(self, population, fitness):\n",
    "        return [x for _, x in sorted(zip(fitness, population))]\n",
    "    \n",
    "    \n",
    "    def mutation(self, population):\n",
    "        '''\n",
    "        Mutation applied by flipping k bits, k selected randomly\n",
    "        '''\n",
    "        k = random.randint(1, 7)\n",
    "        for i in range(len(population)):\n",
    "            population[i] = self._flip_bits(population[i], k)\n",
    "        return population\n",
    "            \n",
    "            \n",
    "    def _flip_bits(self, pop, k):\n",
    "        rand_perm = list(np.random.permutation(8)) # because 8 bit length strings\n",
    "        # take the first k every time and flip them\n",
    "        s = list(pop['pop'])\n",
    "        for i in range(k):\n",
    "            if s[rand_perm[i]] == '0':\n",
    "                s[rand_perm[i]] = '1'\n",
    "            else:\n",
    "                s[rand_perm[i]] = '0'\n",
    "        pop['pop'] = ''.join(s)\n",
    "        return pop"
   ]
  },
  {
   "cell_type": "markdown",
   "id": "fd1c5442-d837-45df-8e7f-6df07f6c5d5b",
   "metadata": {},
   "source": [
    "# Running the Algorithm"
   ]
  },
  {
   "cell_type": "code",
   "execution_count": 3,
   "id": "ab481ea3-18d0-4f4b-a96a-cde915bc4a13",
   "metadata": {},
   "outputs": [
    {
     "name": "stdout",
     "output_type": "stream",
     "text": [
      "Iteration:  0\n",
      "Total Fitness of Population  0 : 0.053375864204416805\n",
      "Iteration:  1\n",
      "Total Fitness of Population  1 : 0.022585017450911175\n",
      "Iteration:  2\n",
      "Total Fitness of Population  2 : 0.03284409395029811\n",
      "Iteration:  3\n",
      "Total Fitness of Population  3 : 0.06384018431163115\n",
      "Iteration:  4\n",
      "Total Fitness of Population  4 : 0.09214820318336797\n",
      "Iteration:  5\n",
      "Total Fitness of Population  5 : 0.03530870753127052\n",
      "Iteration:  6\n",
      "Total Fitness of Population  6 : 0.05730597855467014\n",
      "Iteration:  7\n",
      "Total Fitness of Population  7 : 0.13415578193842476\n",
      "Iteration:  8\n",
      "Total Fitness of Population  8 : 0.10519311401386873\n",
      "Iteration:  9\n",
      "Total Fitness of Population  9 : 0.011321793980546516\n",
      "Fitness after 10 iterations 0.011321793980546516\n",
      "\n",
      "\n",
      "[{'pop': '01110101', 'sign1': '-', 'sign2': '0'}, {'pop': '01110101', 'sign1': '-', 'sign2': '0'}, {'pop': '10100000', 'sign1': '-', 'sign2': '-'}, {'pop': '10100000', 'sign1': '-', 'sign2': '-'}, {'pop': '00011111', 'sign1': '0', 'sign2': '0'}, {'pop': '00011111', 'sign1': '0', 'sign2': '0'}, {'pop': '00000100', 'sign1': '-', 'sign2': '0'}, {'pop': '00000100', 'sign1': '-', 'sign2': '0'}, {'pop': '11111001', 'sign1': '-', 'sign2': '0'}, {'pop': '11111001', 'sign1': '-', 'sign2': '0'}]\n"
     ]
    }
   ],
   "source": [
    "ga = GenericAlgorithm(size=10)\n",
    "n_iters = 10\n",
    "output = ga.fit(n_iters)\n",
    "print('Fitness after {} iterations {}\\n\\n'.format(n_iters ,output[1]))\n",
    "print(output[0])"
   ]
  },
  {
   "cell_type": "markdown",
   "id": "9bcb87d1-1c8d-48a2-b026-7b73d462141b",
   "metadata": {},
   "source": [
    "# Rough Work"
   ]
  },
  {
   "cell_type": "code",
   "execution_count": 4,
   "id": "81d2333a-9892-42d7-b1f5-86f4de032ddb",
   "metadata": {},
   "outputs": [
    {
     "name": "stdout",
     "output_type": "stream",
     "text": [
      "-1010 01010\n",
      "- 0\n",
      "1010 1010\n",
      "10101010\n"
     ]
    }
   ],
   "source": [
    "x = -10\n",
    "y = 10\n",
    "binary1 = f'{x:05b}'\n",
    "binary2 = f'{y:05b}'\n",
    "print(binary1, binary2)\n",
    "print(binary1[0], binary2[0])\n",
    "print(binary1[1:], binary2[1:])\n",
    "binary1 = binary1[1:]\n",
    "binary2 = binary2[1:]\n",
    "final=binary1+binary2\n",
    "print(final)"
   ]
  },
  {
   "cell_type": "code",
   "execution_count": 5,
   "id": "a81b2756-904a-4e43-a588-2e11ea673c74",
   "metadata": {},
   "outputs": [],
   "source": [
    "def _generate_pop():\n",
    "        x = random.randint(-10, 10)\n",
    "        y = random.randint(-10, 10)\n",
    "        x_s = f'{x:05b}'\n",
    "        y_s = f'{y:05b}'\n",
    "        sign1 = x_s[0]\n",
    "        sign2 = y_s[0]\n",
    "        x_s = x_s[1:]\n",
    "        y_s = y_s[1:]\n",
    "        return {\n",
    "            'pop': x_s+y_s,\n",
    "            'sign1': sign1, \n",
    "            'sign2': sign2\n",
    "        }"
   ]
  },
  {
   "cell_type": "code",
   "execution_count": 6,
   "id": "d1b12f70-7b4b-41eb-85b6-385a7f2e3d05",
   "metadata": {},
   "outputs": [
    {
     "name": "stdout",
     "output_type": "stream",
     "text": [
      "{'pop': '10010010', 'sign1': '0', 'sign2': '-'}\n"
     ]
    }
   ],
   "source": [
    "print(_generate_pop())"
   ]
  },
  {
   "cell_type": "code",
   "execution_count": 7,
   "id": "459058d3-40da-48ef-8b92-7e2cfb320b72",
   "metadata": {},
   "outputs": [
    {
     "name": "stdout",
     "output_type": "stream",
     "text": [
      "10101010\n",
      "1010 1010\n",
      "10 10\n"
     ]
    }
   ],
   "source": [
    "p1 = final[:4]\n",
    "p2 = final[4:]\n",
    "print(final)\n",
    "print(p1, p2)\n",
    "v1 = int(p1, 2)\n",
    "v2 = int(p2, 2)\n",
    "print(v1, v2)"
   ]
  },
  {
   "cell_type": "code",
   "execution_count": 8,
   "id": "ff5c106c-45c6-4e84-b3aa-5175cf866f32",
   "metadata": {},
   "outputs": [],
   "source": [
    "def _convert_to_int(pop):\n",
    "        p1 = pop['pop'][:4]\n",
    "        p2 = pop['pop'][4:]\n",
    "        v1 = 0\n",
    "        v2 = 0\n",
    "        if pop['sign1'] == '0': \n",
    "            v1 = int(p1, 2)\n",
    "        else:\n",
    "            v1 = -1*int(p1, 2)\n",
    "            \n",
    "        if pop['sign2'] == '0': \n",
    "            v2 = int(p2, 2)\n",
    "        else:\n",
    "            v2 = -1*int(p2, 2) \n",
    "            \n",
    "        return (v1, v2)"
   ]
  },
  {
   "cell_type": "code",
   "execution_count": 9,
   "id": "637ca5b6-d5d9-474f-bb48-a27ecc4cee1d",
   "metadata": {},
   "outputs": [
    {
     "name": "stdout",
     "output_type": "stream",
     "text": [
      "(-9, -6)\n"
     ]
    }
   ],
   "source": [
    "print(_convert_to_int(_generate_pop()))"
   ]
  },
  {
   "cell_type": "code",
   "execution_count": 10,
   "id": "33cd4831-af4b-4308-bdc2-d885c2aec6b4",
   "metadata": {},
   "outputs": [
    {
     "data": {
      "text/plain": [
       "25"
      ]
     },
     "execution_count": 10,
     "metadata": {},
     "output_type": "execute_result"
    }
   ],
   "source": [
    "(2+3)**2"
   ]
  },
  {
   "cell_type": "code",
   "execution_count": 11,
   "id": "a8b2f431-b9af-40dd-af06-6e11bf7054a4",
   "metadata": {},
   "outputs": [],
   "source": [
    "def _fitness_function(pop):\n",
    "        '''\n",
    "        Takes an individual pop and finds the value of fitness function for this pop\n",
    "        '''\n",
    "        x, y = _convert_to_int(pop)\n",
    "        t1 = (x+2*y-2)**2\n",
    "        t2 = (2*x+y-7)**2\n",
    "        return 1/(t1+t2)"
   ]
  },
  {
   "cell_type": "code",
   "execution_count": 12,
   "id": "7d62a78f-ebde-400a-868f-4ab063202759",
   "metadata": {},
   "outputs": [
    {
     "name": "stdout",
     "output_type": "stream",
     "text": [
      "0.006172839506172839\n"
     ]
    }
   ],
   "source": [
    "p = _generate_pop()\n",
    "print(_fitness_function(p))"
   ]
  },
  {
   "cell_type": "code",
   "execution_count": 13,
   "id": "79e157b4-8401-45c0-a9f9-65c7203de46a",
   "metadata": {},
   "outputs": [
    {
     "data": {
      "text/plain": [
       "15"
      ]
     },
     "execution_count": 13,
     "metadata": {},
     "output_type": "execute_result"
    }
   ],
   "source": [
    "sum([1, 2, 3, 4, 5])"
   ]
  },
  {
   "cell_type": "code",
   "execution_count": 14,
   "id": "b5c2e5c6-470a-45a4-a729-84c0583709f7",
   "metadata": {},
   "outputs": [
    {
     "name": "stdout",
     "output_type": "stream",
     "text": [
      "['Amit', 'Naman', 'Bhautik', 'Anmol', 'Rushikesh', 'Darshan', 'Iswar', 'Dishant']\n",
      "[1, 6, 2, 8, 5, 7, 3, 4]\n",
      "['Amit', 'Bhautik', 'Iswar', 'Dishant', 'Rushikesh', 'Naman', 'Darshan', 'Anmol']\n"
     ]
    }
   ],
   "source": [
    "X = ['Amit', 'Naman', 'Bhautik', 'Anmol', 'Rushikesh', 'Darshan', 'Iswar', 'Dishant']\n",
    "fitness = [1, 6, 2, 8, 5, 7, 3, 4]\n",
    "print(X)\n",
    "print(fitness)\n",
    "X = [x for _, x in sorted(zip(fitness, X))]\n",
    "print(X)"
   ]
  },
  {
   "cell_type": "code",
   "execution_count": 15,
   "id": "58437ed4-848e-4da6-a3ee-85aeb6466cf2",
   "metadata": {},
   "outputs": [
    {
     "data": {
      "text/plain": [
       "1"
      ]
     },
     "execution_count": 15,
     "metadata": {},
     "output_type": "execute_result"
    }
   ],
   "source": [
    "3&1"
   ]
  },
  {
   "cell_type": "code",
   "execution_count": 16,
   "id": "0716a535-0668-486d-bc70-0045d1f7856e",
   "metadata": {},
   "outputs": [
    {
     "data": {
      "text/plain": [
       "0"
      ]
     },
     "execution_count": 16,
     "metadata": {},
     "output_type": "execute_result"
    }
   ],
   "source": [
    "2&1"
   ]
  },
  {
   "cell_type": "code",
   "execution_count": 17,
   "id": "aa6ea09a-eaf5-4a21-a2f3-db0aae9aa04c",
   "metadata": {},
   "outputs": [
    {
     "name": "stdout",
     "output_type": "stream",
     "text": [
      "-1100100\n"
     ]
    }
   ],
   "source": [
    "t = -100\n",
    "print(f'{t:b}')"
   ]
  },
  {
   "cell_type": "code",
   "execution_count": 18,
   "id": "78b36ba0-e608-440b-8952-d6f3a74f8c6b",
   "metadata": {},
   "outputs": [
    {
     "data": {
      "text/plain": [
       "5"
      ]
     },
     "execution_count": 18,
     "metadata": {},
     "output_type": "execute_result"
    }
   ],
   "source": [
    "k = random.randint(1, 8)\n",
    "k"
   ]
  },
  {
   "cell_type": "code",
   "execution_count": 19,
   "id": "f9031d4a-c226-40ab-8e12-b3cec841bae6",
   "metadata": {},
   "outputs": [
    {
     "name": "stdout",
     "output_type": "stream",
     "text": [
      "01110001\n",
      "10101110\n"
     ]
    }
   ],
   "source": [
    "s1 = '01110000'\n",
    "s1 = list(s1)\n",
    "s2 = '10101111'\n",
    "s2 = list(s2)\n",
    "k = 7\n",
    "temp = s1[k:]\n",
    "s1[k:] = s2[k:]\n",
    "s2[k:] = temp\n",
    "s1 = ''.join(s1)\n",
    "s2 = ''.join(s2)\n",
    "print(s1)\n",
    "print(s2)"
   ]
  },
  {
   "cell_type": "code",
   "execution_count": 20,
   "id": "837d9e59-08b7-435b-af60-eb3150759e27",
   "metadata": {},
   "outputs": [
    {
     "data": {
      "text/plain": [
       "[0, 5, 9, 6, 4, 7, 3, 2, 1, 8]"
      ]
     },
     "execution_count": 20,
     "metadata": {},
     "output_type": "execute_result"
    }
   ],
   "source": [
    "# bit flipping\n",
    "x = list(np.random.permutation(10))\n",
    "x"
   ]
  },
  {
   "cell_type": "code",
   "execution_count": 21,
   "id": "188760ff-4eca-439a-b3c7-3bc3e6c39e7f",
   "metadata": {},
   "outputs": [],
   "source": [
    "def flip_bits(pop, k):\n",
    "    rand_perm = list(np.random.permutation(8)) # because 8 bit length strings\n",
    "    print(rand_perm)\n",
    "    # take the first k every time and flip them\n",
    "    s = list(pop['pop'])\n",
    "    print(s)\n",
    "    for i in range(k):\n",
    "        if s[rand_perm[i]] == '0':\n",
    "            s[rand_perm[i]] = '1'\n",
    "        else:\n",
    "            s[rand_perm[i]] = '0'\n",
    "    pop['pop'] = ''.join(s)\n",
    "    print(s)\n",
    "    return pop['pop']"
   ]
  },
  {
   "cell_type": "code",
   "execution_count": 22,
   "id": "1044bbf9-8be6-4939-a790-36fe800f7010",
   "metadata": {},
   "outputs": [
    {
     "name": "stdout",
     "output_type": "stream",
     "text": [
      "{'pop': '10100100', 'sign1': '-', 'sign2': '0'}\n"
     ]
    }
   ],
   "source": [
    "p = _generate_pop()\n",
    "print(p)"
   ]
  },
  {
   "cell_type": "code",
   "execution_count": 23,
   "id": "8f91a1ff-7971-4350-8909-69cc5cc33858",
   "metadata": {},
   "outputs": [
    {
     "name": "stdout",
     "output_type": "stream",
     "text": [
      "[7, 2, 4, 5, 1, 3, 6, 0]\n",
      "['1', '0', '1', '0', '0', '1', '0', '0']\n",
      "['1', '0', '0', '0', '1', '1', '0', '1']\n"
     ]
    },
    {
     "data": {
      "text/plain": [
       "'10001101'"
      ]
     },
     "execution_count": 23,
     "metadata": {},
     "output_type": "execute_result"
    }
   ],
   "source": [
    "flip_bits(p, 3)"
   ]
  },
  {
   "cell_type": "code",
   "execution_count": null,
   "id": "dbaaa315-63e2-4570-8d04-1d97ad48a9fe",
   "metadata": {},
   "outputs": [],
   "source": []
  }
 ],
 "metadata": {
  "kernelspec": {
   "display_name": "Python 3 (ipykernel)",
   "language": "python",
   "name": "python3"
  },
  "language_info": {
   "codemirror_mode": {
    "name": "ipython",
    "version": 3
   },
   "file_extension": ".py",
   "mimetype": "text/x-python",
   "name": "python",
   "nbconvert_exporter": "python",
   "pygments_lexer": "ipython3",
   "version": "3.10.8"
  }
 },
 "nbformat": 4,
 "nbformat_minor": 5
}
